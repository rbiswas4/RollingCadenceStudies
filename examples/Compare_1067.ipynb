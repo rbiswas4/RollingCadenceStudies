{
 "cells": [
  {
   "cell_type": "markdown",
   "metadata": {},
   "source": [
    "This is a short notebook describing the problem with `astro_lsst_01_1067.db`. This was a run where we mixed "
   ]
  },
  {
   "cell_type": "code",
   "execution_count": 6,
   "metadata": {
    "collapsed": true
   },
   "outputs": [],
   "source": [
    "import numpy as np\n",
    "import pandas as pd"
   ]
  },
  {
   "cell_type": "code",
   "execution_count": 7,
   "metadata": {
    "collapsed": true
   },
   "outputs": [],
   "source": [
    "from sqlalchemy import create_engine"
   ]
  },
  {
   "cell_type": "code",
   "execution_count": 8,
   "metadata": {
    "collapsed": false
   },
   "outputs": [],
   "source": [
    "%matplotlib inline\n",
    "import matplotlib.pyplot as plt\n",
    "import seaborn as sns\n",
    "sns.set_style('whitegrid')"
   ]
  },
  {
   "cell_type": "code",
   "execution_count": 9,
   "metadata": {
    "collapsed": false
   },
   "outputs": [],
   "source": [
    "conn = create_engine('sqlite:///'+ '/Users/rbiswas/data/LSST/OpSimData/astro_lsst_01_1067_sqlite.db', echo=False)"
   ]
  },
  {
   "cell_type": "code",
   "execution_count": 11,
   "metadata": {
    "collapsed": false
   },
   "outputs": [],
   "source": [
    "df = pd.read_sql_table('Summary', con=conn)"
   ]
  },
  {
   "cell_type": "code",
   "execution_count": 12,
   "metadata": {
    "collapsed": false
   },
   "outputs": [
    {
     "data": {
      "text/plain": [
       "802"
      ]
     },
     "execution_count": 12,
     "metadata": {},
     "output_type": "execute_result"
    }
   ],
   "source": [
    "df.query('propID == 204').fieldID.unique().size"
   ]
  },
  {
   "cell_type": "code",
   "execution_count": 19,
   "metadata": {
    "collapsed": false
   },
   "outputs": [
    {
     "data": {
      "text/plain": [
       "<matplotlib.lines.Line2D at 0x114e06d90>"
      ]
     },
     "execution_count": 19,
     "metadata": {},
     "output_type": "execute_result"
    },
    {
     "data": {
      "image/png": "[encoded data removed]",
      "text/plain": [
       "<matplotlib.figure.Figure at 0x111c4e290>"
      ]
     },
     "metadata": {},
     "output_type": "display_data"
    }
   ],
   "source": [
    "fig, ax = plt.subplots()\n",
    "df.query('propID == 204 and filter == \"r\"').groupby('fieldID').agg(dict(expMJD='count'), '').hist(bins=np.arange(0., 30., 1.),\n",
    "                                                                                                  histtype='step',\n",
    "                                                                                                  lw=1., \n",
    "                                                                                                  ax=ax,\n",
    "                                                                                                  color='k',\n",
    "                                                                                                  label='Rolling Cadence',\n",
    "                                                                                                  alpha=1)\n",
    "df.query('propID == 210 and filter == \"r\"').groupby('fieldID').agg(dict(expMJD='count'), '').hist(bins=np.arange(0., 30., 1.),\n",
    "                                                                                                  histtype='step',\n",
    "                                                                                                  lw=1.,\n",
    "                                                                                                  color='r',\n",
    "                                                                                                  ax=ax,\n",
    "                                                                                                  label='underlying cadence',\n",
    "                                                                                                  alpha=1)\n",
    "\n",
    "plt.legend()\n",
    "ax.set_xlabel('num Visits')\n",
    "ax.set_ylabel('Number of fields')\n",
    "ax.axvline(62, color='k', ls='dashed')\n",
    "ax.axvline(5, color='r', ls='dashed')"
   ]
  },
  {
   "cell_type": "markdown",
   "metadata": {},
   "source": [
    "This plot shows a histogram of the number of visits to different fields. The dashed lines show the requested number of visits. It appears that (a) all of the fields are getting observations not leaving enough time and cutting off at the same time. This is apparently because the number of sequences is used to 'stop' awarding sequences to a proposal, but not increase the probability of a proposal which demands many more sequences. Instead that has to be done using propRank. (b) Having `RestartCompletedSequences` implies it does not stop sequences even after they have been completed, and continues to add 5 visit chunks to each field.\n",
    "We have started a new run with `RestartCompletedSequences` set to `False`, and `MaxBoostToComplete` to 0. on the advice of Lynne.  There is still a worry that the better way to do this is by ranking proposals, because I am worried that the underlying cadence of 5 days will finish too early, particularly for the two year sequences."
   ]
  },
  {
   "cell_type": "markdown",
   "metadata": {},
   "source": [
    "The following cells show that the proposals 210 (not observed with concentrated cadence) and 204 (observed with concentrated cadence have expected expMJD / night distribution (2nd year)."
   ]
  },
  {
   "cell_type": "code",
   "execution_count": 43,
   "metadata": {
    "collapsed": false
   },
   "outputs": [
    {
     "data": {
      "text/plain": [
       "count    10974.000000\n",
       "mean       540.977583\n",
       "std         98.270935\n",
       "min        387.000000\n",
       "25%        451.000000\n",
       "50%        539.000000\n",
       "75%        619.000000\n",
       "max        729.000000\n",
       "Name: night, dtype: float64"
      ]
     },
     "execution_count": 43,
     "metadata": {},
     "output_type": "execute_result"
    }
   ],
   "source": [
    "df.query('propID == 210 and filter == \"r\"').night.describe()"
   ]
  },
  {
   "cell_type": "code",
   "execution_count": 44,
   "metadata": {
    "collapsed": false
   },
   "outputs": [
    {
     "data": {
      "text/plain": [
       "count    6968.000000\n",
       "mean      536.564581\n",
       "std        95.595173\n",
       "min       387.000000\n",
       "25%       473.000000\n",
       "50%       531.000000\n",
       "75%       588.000000\n",
       "max       714.000000\n",
       "Name: night, dtype: float64"
      ]
     },
     "execution_count": 44,
     "metadata": {},
     "output_type": "execute_result"
    }
   ],
   "source": [
    "df.query('propID == 204 and filter == \"r\"').night.describe()"
   ]
  },
  {
   "cell_type": "code",
   "execution_count": null,
   "metadata": {
    "collapsed": true
   },
   "outputs": [],
   "source": []
  }
 ],
 "metadata": {
  "anaconda-cloud": {},
  "kernelspec": {
   "display_name": "Python [conda root]",
   "language": "python",
   "name": "conda-root-py"
  },
  "language_info": {
   "codemirror_mode": {
    "name": "ipython",
    "version": 2
   },
   "file_extension": ".py",
   "mimetype": "text/x-python",
   "name": "python",
   "nbconvert_exporter": "python",
   "pygments_lexer": "ipython2",
   "version": "2.7.12"
  }
 },
 "nbformat": 4,
 "nbformat_minor": 1
}
